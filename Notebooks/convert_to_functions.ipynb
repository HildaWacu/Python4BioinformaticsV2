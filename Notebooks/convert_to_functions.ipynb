{
 "cells": [
  {
   "cell_type": "markdown",
   "id": "61743982-7eca-4607-ad7b-4c8ced908fad",
   "metadata": {},
   "source": [
    "## Convert all codes used in solving the exercises to functions"
   ]
  },
  {
   "cell_type": "markdown",
   "id": "0752cdc7-fabe-4075-93a7-99600cbcec38",
   "metadata": {},
   "source": [
    "### Exercise:\n",
    "\n",
    "1. Given the following amino acid sequence (MNKMDLVADVAEKTDLSKAKATEVIDAVFA), find the first, last and the 5th amino acids in the sequence. "
   ]
  },
  {
   "cell_type": "markdown",
   "id": "7445d2d0-6688-4574-b7e1-f04fa2b37eb0",
   "metadata": {},
   "source": [
    "This is the basic syntax of a function\n",
    "\n",
    "```python\n",
    "def funcname(arg1, arg2,... argN):\n",
    "    ''' Document String'''\n",
    "    statements\n",
    "    return <value>\n",
    "```"
   ]
  },
  {
   "cell_type": "code",
   "execution_count": 7,
   "id": "6865ee22-07f0-4bc8-8d0c-a7fd3f10271a",
   "metadata": {},
   "outputs": [
    {
     "data": {
      "text/plain": [
       "\u001b[1;31mSignature:\u001b[0m \u001b[0mlen\u001b[0m\u001b[1;33m(\u001b[0m\u001b[0mobj\u001b[0m\u001b[1;33m,\u001b[0m \u001b[1;33m/\u001b[0m\u001b[1;33m)\u001b[0m\u001b[1;33m\u001b[0m\u001b[1;33m\u001b[0m\u001b[0m\n",
       "\u001b[1;31mDocstring:\u001b[0m Return the number of items in a container.\n",
       "\u001b[1;31mType:\u001b[0m      builtin_function_or_method\n"
      ]
     },
     "metadata": {},
     "output_type": "display_data"
    }
   ],
   "source": [
    "?len"
   ]
  },
  {
   "cell_type": "code",
   "execution_count": 1,
   "id": "58215a18-9dce-4945-98ab-2b9fb2153952",
   "metadata": {
    "tags": []
   },
   "outputs": [],
   "source": [
    "#defining the aa_pos function\n",
    "def aa_pos(aa):\n",
    "    ''' Returns the first, last and fifth amino acid, respectively, in an amino acid sequence'''\n",
    "    aa[0]\n",
    "    aa[-1]\n",
    "    aa[4]\n",
    "    return(\"%s,%s,%s\" % (aa[0],aa[-1],aa[4]))\n",
    "    "
   ]
  },
  {
   "cell_type": "code",
   "execution_count": 11,
   "id": "8d3833be-9eb5-42f6-abdc-66ef5f8872e1",
   "metadata": {},
   "outputs": [
    {
     "name": "stdout",
     "output_type": "stream",
     "text": [
      "def aa_pos(aa):\n",
      "    ''' Returns the first, last and fifth amino acid, respectively, in an amino acid sequence'''\n",
      "    aa[0]\n",
      "    aa[-1]\n",
      "    aa[4]\n",
      "    return(\"%s,%s,%s\" % (aa[0],aa[-1],aa[4]))\n",
      "\n"
     ]
    }
   ],
   "source": [
    "# how to inspect a source code\n",
    "import inspect\n",
    "lines = inspect.getsource(aa_pos)\n",
    "print(lines)"
   ]
  },
  {
   "cell_type": "code",
   "execution_count": 3,
   "id": "d8796a06-ad70-4500-9a36-e04486fdb500",
   "metadata": {},
   "outputs": [
    {
     "data": {
      "text/plain": [
       "\u001b[0;31mSignature:\u001b[0m \u001b[0maa_pos\u001b[0m\u001b[0;34m(\u001b[0m\u001b[0maa\u001b[0m\u001b[0;34m)\u001b[0m\u001b[0;34m\u001b[0m\u001b[0;34m\u001b[0m\u001b[0m\n",
       "\u001b[0;31mDocstring:\u001b[0m Returns the first, last and fifth amino acid, respectively, in an amino acid sequence\n",
       "\u001b[0;31mFile:\u001b[0m      /tmp/ipykernel_204/1140311068.py\n",
       "\u001b[0;31mType:\u001b[0m      function\n"
      ]
     },
     "metadata": {},
     "output_type": "display_data"
    }
   ],
   "source": [
    "#rpinting the help on the aa_pos function\n",
    "?aa_pos"
   ]
  },
  {
   "cell_type": "code",
   "execution_count": 4,
   "id": "88a44732-84f2-41ff-b0ff-417ec4e728a0",
   "metadata": {},
   "outputs": [
    {
     "data": {
      "text/plain": [
       "'M,A,D'"
      ]
     },
     "execution_count": 4,
     "metadata": {},
     "output_type": "execute_result"
    }
   ],
   "source": [
    "#running the aa_pos function\n",
    "aa_pos(\"MNKMDLVADVAEKTDLSKAKATEVIDAVFA\")"
   ]
  },
  {
   "cell_type": "code",
   "execution_count": null,
   "id": "3fc8fb16-4b55-406c-b66b-32b4e6688d47",
   "metadata": {},
   "outputs": [],
   "source": [
    "#to validate an amino acid sequence\n",
    "if set(aa) = set("
   ]
  },
  {
   "cell_type": "code",
   "execution_count": 5,
   "id": "69c2e8b9-35b6-4bd1-9168-fec4147f28f7",
   "metadata": {
    "tags": []
   },
   "outputs": [
    {
     "data": {
      "text/plain": [
       "22"
      ]
     },
     "execution_count": 5,
     "metadata": {},
     "output_type": "execute_result"
    }
   ],
   "source": [
    "len(\"ARNDBCEQZGHILKMFPSTWYV\")"
   ]
  },
  {
   "cell_type": "code",
   "execution_count": 6,
   "id": "4291e2bc-d0fa-4952-b321-6b5b40c45b4f",
   "metadata": {
    "tags": []
   },
   "outputs": [
    {
     "data": {
      "text/plain": [
       "20"
      ]
     },
     "execution_count": 6,
     "metadata": {},
     "output_type": "execute_result"
    }
   ],
   "source": [
    "len(\"arndceqghilkmfpstwyv\")"
   ]
  },
  {
   "cell_type": "code",
   "execution_count": null,
   "id": "2a3ee14d-39a9-4ba1-82ac-c706231bf557",
   "metadata": {
    "jupyter": {
     "source_hidden": true
    },
    "tags": []
   },
   "outputs": [],
   "source": [
    "def validateDNA(seq):\n",
    "    set1 = set(seq.upper())\n",
    "    bases = set('ACGNT')\n",
    "    set1.union(set2)\n",
    "    return bases == set1.union(bases)"
   ]
  },
  {
   "cell_type": "code",
   "execution_count": null,
   "id": "de78fcb6-0777-4954-b683-e6d57503965d",
   "metadata": {
    "jupyter": {
     "source_hidden": true
    },
    "tags": []
   },
   "outputs": [],
   "source": []
  },
  {
   "cell_type": "code",
   "execution_count": 15,
   "id": "0e6f75b9-1666-4afa-bfc2-27d31ff8ba34",
   "metadata": {
    "collapsed": true,
    "jupyter": {
     "outputs_hidden": true,
     "source_hidden": true
    },
    "tags": []
   },
   "outputs": [
    {
     "data": {
      "text/plain": [
       "'?MNKMDLVADVAEKTDLSKAKATEVIDAVFA'"
      ]
     },
     "execution_count": 15,
     "metadata": {},
     "output_type": "execute_result"
    }
   ],
   "source": [
    "#creating the validation codes\n",
    "correct_aa = set(\"arndceqghilkmfpstwyv\")\n",
    "correct_aa\n",
    "aa = \"?MNKMDLVADVAEKTDLSKAKATEVIDAVFA\"\n",
    "aa_sample = set(aa.lower())\n",
    "aa_sample\n",
    "aa_sample.union(correct_aa) #using .union helps to include the any correct seq that perhaps doesnt have all the types of aa.\n",
    "aa"
   ]
  },
  {
   "cell_type": "code",
   "execution_count": 16,
   "id": "b03b7f63-995c-4f61-91a0-347e6526ad99",
   "metadata": {
    "collapsed": true,
    "jupyter": {
     "outputs_hidden": true,
     "source_hidden": true
    },
    "tags": []
   },
   "outputs": [
    {
     "name": "stdout",
     "output_type": "stream",
     "text": [
      "Invalid amino acid sequence\n"
     ]
    }
   ],
   "source": [
    "#incorporating the if function in the validation codes above \n",
    "if aa_sample.union(correct_aa) == correct_aa:\n",
    "    aa[0]\n",
    "    aa[-1]\n",
    "    aa[4]\n",
    "    print(\"%s,%s,%s\" % (aa[0],aa[-1],aa[4]))\n",
    "else:\n",
    "    print(\"Invalid amino acid sequence\")"
   ]
  },
  {
   "cell_type": "code",
   "execution_count": 17,
   "id": "236a26cd-5adf-46a6-a411-29e4d26acdd4",
   "metadata": {
    "collapsed": true,
    "jupyter": {
     "outputs_hidden": true,
     "source_hidden": true
    },
    "tags": []
   },
   "outputs": [
    {
     "data": {
      "text/plain": [
       "False"
      ]
     },
     "execution_count": 17,
     "metadata": {},
     "output_type": "execute_result"
    }
   ],
   "source": [
    "aa_sample.union(correct_aa) == correct_aa"
   ]
  },
  {
   "cell_type": "code",
   "execution_count": 22,
   "id": "11b20771-0d5c-4c7c-bbdb-5a04e383ecd7",
   "metadata": {
    "jupyter": {
     "source_hidden": true
    },
    "tags": []
   },
   "outputs": [],
   "source": [
    "#defining the aa_pos function with a validation step involved in the function to check for a valid amino acid sequence\n",
    "def aa_pos(aa):\n",
    "    ''' Returns the first, last and fifth amino acid, respectively, in a valid amino acid sequence'''\n",
    "    correct_aa = set(\"arndceqghilkmfpstwyv\")\n",
    "    aa_sample = set(aa.lower())\n",
    "    if aa_sample.union(correct_aa) == correct_aa:\n",
    "        aa[0]\n",
    "        aa[-1]\n",
    "        aa[4]\n",
    "        return(\"%s,%s,%s\" % (aa[0],aa[-1],aa[4]))\n",
    "    else:\n",
    "        print(\"Invalid amino acid sequence\")"
   ]
  },
  {
   "cell_type": "code",
   "execution_count": 23,
   "id": "a1d3db59-e7ea-4100-8523-ca90ded655b5",
   "metadata": {
    "collapsed": true,
    "jupyter": {
     "outputs_hidden": true,
     "source_hidden": true
    },
    "tags": []
   },
   "outputs": [
    {
     "name": "stdout",
     "output_type": "stream",
     "text": [
      "Invalid amino acid sequence\n"
     ]
    }
   ],
   "source": [
    "#for testing the function\n",
    "aa_pos(\"?MNKMDLVADVAEKTDLSKAKATEVIDAVFA\")"
   ]
  },
  {
   "cell_type": "markdown",
   "id": "b72548c7-7291-42c2-86bb-dc62685d122e",
   "metadata": {},
   "source": [
    "2. The above amino acid is a bacterial restriction enzyme that recognizes \"TCCGGA\". Find the first restriction site in the following sequence: AAAAATCCCGAGGCGGCTATATAGGGCTCCGGAGGCGTAATATAAAA"
   ]
  },
  {
   "cell_type": "code",
   "execution_count": 12,
   "id": "0b978cc3-159a-48ac-a080-f944acb9c271",
   "metadata": {
    "jupyter": {
     "source_hidden": true
    },
    "tags": []
   },
   "outputs": [],
   "source": [
    "#function that returns the restriction site coordinates in a dna sequence\n",
    "def restriction_site(restrict_seq,seq):\n",
    "    '''Returns the first restriction site coordinates of a restriction enzyme in a dna sequence. It is not case sensitive \n",
    "    for the sequence'''\n",
    "    restrict_seq = restrict_seq.upper()\n",
    "    seq = seq.upper()\n",
    "    return(seq.find(restrict_seq), seq.find(restrict_seq) + len(restrict_seq))\n",
    "    "
   ]
  },
  {
   "cell_type": "code",
   "execution_count": 18,
   "id": "00249acd-ccca-4140-9f1d-4bff7f4cc4b2",
   "metadata": {
    "collapsed": true,
    "jupyter": {
     "outputs_hidden": true,
     "source_hidden": true
    },
    "tags": []
   },
   "outputs": [
    {
     "data": {
      "text/plain": [
       "(27, 33)"
      ]
     },
     "execution_count": 18,
     "metadata": {},
     "output_type": "execute_result"
    }
   ],
   "source": [
    "#for testing the function\n",
    "# restriction_site(\"TCCGGA\",\"AAAAATCCCGAGGCGGCTATATAGGGCTCCGGAGGCGTAATATAAAA\")\n",
    "# l=\"TCCGGA\".lower()\n",
    "# l\n",
    "restriction_site(l,\"AAAAATCCCGAGGCGGCTATATAGGGCTCCGGAGGCGTAATATAAAA\")"
   ]
  },
  {
   "cell_type": "markdown",
   "id": "cf84df4e-5455-48c9-a1cc-0492ff510c78",
   "metadata": {},
   "source": [
    " 3. Using strings, lists, tuples and dictionaries concepts, find the reverse complement of AAAAATCCCGAGGCGGCTATATAGGGCTCCGGAGGCGTAATATAAAA\n",
    "\n",
    "\n",
    "Algorithm:\n",
    "1. Store the DNA in a string\n",
    "    - Use it as a string\n",
    "    - Convert it to a list\n",
    "2. Reverse the dna string\n",
    "    - reverse method on lists\n",
    "    - Slice methods on lists\n",
    "    - use negative indexing (slicing) on a string or list\n",
    "3. Complement:\n",
    "    - For a string, we can use replace\n",
    "    - Use conditionals to replace an empty list\n",
    "    - use a DNA complement dictionary"
   ]
  },
  {
   "cell_type": "code",
   "execution_count": 35,
   "id": "580154b5-e6b6-4ab2-9ea1-f84578cda19a",
   "metadata": {
    "tags": []
   },
   "outputs": [],
   "source": [
    "#Method 1 - strings\n",
    "def complement_str(seq):\n",
    "    '''returns the complementary sequence (reverse strand) of a dna sequence(forward strand)'''\n",
    "    seq = seq.upper()\n",
    "    comp_seq = seq.replace(\"A\",\"t\").replace(\"T\",\"a\").replace(\"C\",\"g\").replace(\"G\",\"c\").upper()\n",
    "    return (comp_seq)"
   ]
  },
  {
   "cell_type": "code",
   "execution_count": 40,
   "id": "360c8b6e-7af9-44b6-ab5a-8b56ad1fa21a",
   "metadata": {},
   "outputs": [
    {
     "name": "stdout",
     "output_type": "stream",
     "text": [
      "TTTTTAGGGCTCCGCCGATATATCCCGAGGCCTCCGCATTATATTTT\n"
     ]
    },
    {
     "data": {
      "text/plain": [
       "'TTTTTAGGGCTCCGCCGATATATCCCGAGGCCTCCGCATTATATTTT'"
      ]
     },
     "execution_count": 40,
     "metadata": {},
     "output_type": "execute_result"
    }
   ],
   "source": [
    "print(complement_str(\"AAAAATCCCGAGGCGGCTATATAGGGCTCCGGAGGCGTAATATAAAA\"))\n",
    "lower_case = \"AAAAATCCCGAGGCGGCTATATAGGGCTCCGGAGGCGTAATATAAAA\".lower()\n",
    "# lower_case\n",
    "complement_str(lower_case)"
   ]
  },
  {
   "cell_type": "code",
   "execution_count": 45,
   "id": "7a8d6c79-459a-41cb-917f-cf7ce6a02e1a",
   "metadata": {},
   "outputs": [],
   "source": [
    "#defining the function to reverse the complement strand\n",
    "def reverse_str(seq):\n",
    "    '''Returns a reversed complement sequence(i.e., a reversed reverse strand) of a dna sequence (forward strand)'''\n",
    "    rev_seq = (complement_str(seq))[::-1] #incorporated the complement_str function in this function\n",
    "    return rev_seq"
   ]
  },
  {
   "cell_type": "code",
   "execution_count": 44,
   "id": "73bdee17-4594-4f36-b864-47c42404057d",
   "metadata": {},
   "outputs": [
    {
     "data": {
      "text/plain": [
       "'TTTTATATTACGCCTCCGGAGCCCTATATAGCCGCCTCGGGATTTTT'"
      ]
     },
     "execution_count": 44,
     "metadata": {},
     "output_type": "execute_result"
    }
   ],
   "source": [
    "#testing the functions\n",
    "reverse_str(\"AAAAATCCCGAGGCGGCTATATAGGGCTCCGGAGGCGTAATATAAAA\")"
   ]
  },
  {
   "cell_type": "code",
   "execution_count": 10,
   "id": "6014cddb-5e6d-4462-b742-6f7bee2bd120",
   "metadata": {
    "tags": []
   },
   "outputs": [
    {
     "name": "stdout",
     "output_type": "stream",
     "text": [
      "AATTTTT\n"
     ]
    }
   ],
   "source": [
    "# dna = 'AAAAATCCCGAGGCGGCTATATAGGGCTCCGGAGGCGTAATATAAAAG'\n",
    "dna = 'AAAAATT'\n",
    "rev_dna_dict = {'A':'T', 'C':'G', 'G':'C', 'T':'A'}\n",
    "comp_dna = ''\n",
    "rev_dna_dict[\"A\"]\n",
    "for nuc in dna:\n",
    "    comp_dna = rev_dna_dict[nuc] + comp_dna\n",
    "print(comp_dna)"
   ]
  },
  {
   "cell_type": "code",
   "execution_count": 36,
   "id": "84333310-5d23-4aa4-a1ae-b10a88201e1e",
   "metadata": {},
   "outputs": [
    {
     "name": "stdout",
     "output_type": "stream",
     "text": [
      "T\n",
      "TT\n",
      "TTT\n",
      "TTTT\n",
      "TTTTT\n",
      "ATTTTT\n",
      "AATTTTT\n",
      "AATTTTT\n"
     ]
    }
   ],
   "source": [
    "# dna = 'AAAAATCCCGAGGCGGCTATATAGGGCTCCGGAGGCGTAATATAAAAG'\n",
    "dna = 'AAAAATT'\n",
    "dna_comp_dict = {'A':'T', 'C':'G', 'G':'C', 'T':'A'}\n",
    "comp_dna = '' ##declare an empty string named comp_dna\n",
    "# b[\"A\"]\n",
    "for nuc in dna:\n",
    "    # print(nuc)\n",
    "    # c = b[nuc] + comp_dna #a very interesting concept here, each nucleotide will overwrite that in the string c.\n",
    "    comp_dna = dna_comp_dict[nuc] + comp_dna\n",
    "    print(comp_dna) #this prints each string. Remember, each nuc is added to the beginning of the string. That is how the reverse string is obtained\n",
    "# print(c)\n",
    "print(comp_dna) #using this prints the compiled string"
   ]
  },
  {
   "cell_type": "code",
   "execution_count": 40,
   "id": "85324781-a187-417b-bf6c-7c703a502105",
   "metadata": {},
   "outputs": [
    {
     "name": "stdout",
     "output_type": "stream",
     "text": [
      "CTTTTATATTACGCCTCCGGAGCCCTATATAGCCGCCTCGGGATTTTT\n"
     ]
    }
   ],
   "source": [
    "dna = 'AAAAATCCCGAGGCGGCTATATAGGGCTCCGGAGGCGTAATATAAAAG'\n",
    "dna_comp_dict = {'A':'T', 'C':'G', 'G':'C', 'T':'A'}\n",
    "comp_dna = ''\n",
    "for nuc in dna:\n",
    "    # c = b[nuc] + comp_dna #a very interesting concept here, each nucleotide will overwrite that in the string c.\n",
    "    comp_dna = dna_comp_dict[nuc] + comp_dna\n",
    "print(comp_dna) #using this prints the complete compiled string. Find out why?"
   ]
  },
  {
   "cell_type": "code",
   "execution_count": 44,
   "id": "cfbc43df-52e4-4105-a15e-cc4b4498997e",
   "metadata": {},
   "outputs": [],
   "source": [
    "#Method 2 - dictionary: use a DNA complement dictionary\n",
    "#making of a dictionary of DNA complement nuc\n",
    "def reverse_str(seq):\n",
    "    '''Returns a reversed complementary seqeuence of DNA'''\n",
    "    seq = seq.upper()\n",
    "    dna_comp_dict = {'A':'T','C':'G','G':'C','T':'A'}\n",
    "    comp_dna = ''\n",
    "    for nuc in seq:\n",
    "        comp_dna = dna_comp_dict[nuc] + comp_dna\n",
    "    return comp_dna"
   ]
  },
  {
   "cell_type": "code",
   "execution_count": 50,
   "id": "16d3ace4-2550-4181-a351-07dc3c203eb3",
   "metadata": {},
   "outputs": [
    {
     "data": {
      "text/plain": [
       "'CCCCCGGGGGAAAAATTTTTT'"
      ]
     },
     "execution_count": 50,
     "metadata": {},
     "output_type": "execute_result"
    }
   ],
   "source": [
    "#for trying out the string\n",
    "reverse_str(\"aaaaaatttttcccccggggg\")"
   ]
  },
  {
   "cell_type": "code",
   "execution_count": 62,
   "id": "14231c52-3305-407d-bed0-c0fd6e17f158",
   "metadata": {},
   "outputs": [
    {
     "data": {
      "text/plain": [
       "'CTTTTATATTACGCCTCCGGAGCCCTATATAGCCGCCTCGGGATTTTT'"
      ]
     },
     "execution_count": 62,
     "metadata": {},
     "output_type": "execute_result"
    }
   ],
   "source": [
    "#method 3 - use of conditionals\n",
    "dna = \"AAAAATCCCGAGGCGGCTATATAGGGCTCCGGAGGCGTAATATAAAAG\"\n",
    "comp_dna = []\n",
    "for nuc in dna:\n",
    "    # print(nuc)\n",
    "    # dna = dna.upper()\n",
    "    if nuc ==\"A\":\n",
    "        comp_dna.append(\"T\") \n",
    "    elif nuc == \"T\":\n",
    "        comp_dna.append(\"A\")\n",
    "    elif nuc == \"C\":\n",
    "        comp_dna.append(\"G\")\n",
    "    elif nuc == \"G\":\n",
    "        comp_dna.append(\"C\")\n",
    "    else:\n",
    "        comp_dna.append(nuc)\n",
    "comp_dna = ''.join(comp_dna[::-1])\n",
    "comp_dna\n",
    "# print(comp_dna)\n",
    "# type(comp_dna) :this is a list\n",
    "# comp_dna = print(comp_dna[::-1]) #cannot conduct a join because this object type is nontype(the output of print)\n",
    "# comp_dna = ''.join(comp_dna[::-1]) #to convert a list to a string using .join\n",
    "# type(comp_dna)\n",
    "# comp_dna\n",
    "# rev_comp_str = ''.join(comp_dna)\n",
    "# rev_comp_str[::-1]"
   ]
  },
  {
   "cell_type": "code",
   "execution_count": 63,
   "id": "15193759-19ef-4978-8d4a-c7673d25e11e",
   "metadata": {},
   "outputs": [],
   "source": [
    "def reverse_str (seq):\n",
    "    seq = seq.upper()\n",
    "    comp_dna = []\n",
    "    for nuc in seq:\n",
    "        if nuc == \"A\":\n",
    "            comp_dna.append(\"T\")\n",
    "        elif nuc == \"T\":\n",
    "            comp_dna.append(\"A\")\n",
    "        elif nuc == \"C\":\n",
    "            comp_dna.append(\"G\")\n",
    "        elif nuc == \"G\":\n",
    "            comp_dna.append(\"C\")\n",
    "        else:\n",
    "            comp_dna.append(nuc)\n",
    "    comp_dna = ''.join(comp_dna[::-1])\n",
    "    return comp_dna"
   ]
  },
  {
   "cell_type": "code",
   "execution_count": 66,
   "id": "539f9399-2b01-4a6e-8893-68958e54ac81",
   "metadata": {},
   "outputs": [
    {
     "data": {
      "text/plain": [
       "'AAATTTT'"
      ]
     },
     "execution_count": 66,
     "metadata": {},
     "output_type": "execute_result"
    }
   ],
   "source": [
    "#to test the funtion\n",
    "reverse_str(dna)\n",
    "reverse_str(\"aaaattt\")"
   ]
  }
 ],
 "metadata": {
  "kernelspec": {
   "display_name": "Python 3 (ipykernel)",
   "language": "python",
   "name": "python3"
  },
  "language_info": {
   "codemirror_mode": {
    "name": "ipython",
    "version": 3
   },
   "file_extension": ".py",
   "mimetype": "text/x-python",
   "name": "python",
   "nbconvert_exporter": "python",
   "pygments_lexer": "ipython3",
   "version": "3.9.7"
  }
 },
 "nbformat": 4,
 "nbformat_minor": 5
}
