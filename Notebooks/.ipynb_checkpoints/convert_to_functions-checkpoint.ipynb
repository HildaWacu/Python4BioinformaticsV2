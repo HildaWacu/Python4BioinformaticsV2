{
 "cells": [
  {
   "cell_type": "markdown",
   "id": "61743982-7eca-4607-ad7b-4c8ced908fad",
   "metadata": {},
   "source": [
    "## Convert all codes used in solving the exercises to functions"
   ]
  },
  {
   "cell_type": "markdown",
   "id": "0752cdc7-fabe-4075-93a7-99600cbcec38",
   "metadata": {},
   "source": [
    "### Exercise:\n",
    "\n",
    "1. Given the following amino acid sequence (MNKMDLVADVAEKTDLSKAKATEVIDAVFA), find the first, last and the 5th amino acids in the sequence. "
   ]
  },
  {
   "cell_type": "markdown",
   "id": "7445d2d0-6688-4574-b7e1-f04fa2b37eb0",
   "metadata": {},
   "source": [
    "This is the basic syntax of a function\n",
    "\n",
    "```python\n",
    "def funcname(arg1, arg2,... argN):\n",
    "    ''' Document String'''\n",
    "    statements\n",
    "    return <value>\n",
    "```"
   ]
  },
  {
   "cell_type": "code",
   "execution_count": 7,
   "id": "6865ee22-07f0-4bc8-8d0c-a7fd3f10271a",
   "metadata": {},
   "outputs": [
    {
     "data": {
      "text/plain": [
       "\u001b[1;31mSignature:\u001b[0m \u001b[0mlen\u001b[0m\u001b[1;33m(\u001b[0m\u001b[0mobj\u001b[0m\u001b[1;33m,\u001b[0m \u001b[1;33m/\u001b[0m\u001b[1;33m)\u001b[0m\u001b[1;33m\u001b[0m\u001b[1;33m\u001b[0m\u001b[0m\n",
       "\u001b[1;31mDocstring:\u001b[0m Return the number of items in a container.\n",
       "\u001b[1;31mType:\u001b[0m      builtin_function_or_method\n"
      ]
     },
     "metadata": {},
     "output_type": "display_data"
    }
   ],
   "source": [
    "?len"
   ]
  },
  {
   "cell_type": "code",
   "execution_count": 2,
   "id": "58215a18-9dce-4945-98ab-2b9fb2153952",
   "metadata": {},
   "outputs": [],
   "source": [
    "#defining the aa_pos function\n",
    "def aa_pos(aa):\n",
    "    ''' Returns the first, last and fifth amino acid, respectively, in an amino acid sequence'''\n",
    "    aa[0]\n",
    "    aa[-1]\n",
    "    aa[4]\n",
    "    return(\"%s,%s,%s\" % (aa[0],aa[-1],aa[4]))\n",
    "    "
   ]
  },
  {
   "cell_type": "code",
   "execution_count": 3,
   "id": "d8796a06-ad70-4500-9a36-e04486fdb500",
   "metadata": {},
   "outputs": [
    {
     "data": {
      "text/plain": [
       "\u001b[0;31mSignature:\u001b[0m \u001b[0maa_pos\u001b[0m\u001b[0;34m(\u001b[0m\u001b[0maa\u001b[0m\u001b[0;34m)\u001b[0m\u001b[0;34m\u001b[0m\u001b[0;34m\u001b[0m\u001b[0m\n",
       "\u001b[0;31mDocstring:\u001b[0m Returns the first, last and fifth amino acid, respectively, in an amino acid sequence\n",
       "\u001b[0;31mFile:\u001b[0m      /tmp/ipykernel_204/1140311068.py\n",
       "\u001b[0;31mType:\u001b[0m      function\n"
      ]
     },
     "metadata": {},
     "output_type": "display_data"
    }
   ],
   "source": [
    "#rpinting the help on the aa_pos function\n",
    "?aa_pos"
   ]
  },
  {
   "cell_type": "code",
   "execution_count": 4,
   "id": "88a44732-84f2-41ff-b0ff-417ec4e728a0",
   "metadata": {},
   "outputs": [
    {
     "data": {
      "text/plain": [
       "'M,A,D'"
      ]
     },
     "execution_count": 4,
     "metadata": {},
     "output_type": "execute_result"
    }
   ],
   "source": [
    "#running the aa_pos function\n",
    "aa_pos(\"MNKMDLVADVAEKTDLSKAKATEVIDAVFA\")"
   ]
  },
  {
   "cell_type": "code",
   "execution_count": null,
   "id": "3fc8fb16-4b55-406c-b66b-32b4e6688d47",
   "metadata": {},
   "outputs": [],
   "source": [
    "#to validate an amino acid sequence\n",
    "if set(aa) = set("
   ]
  },
  {
   "cell_type": "code",
   "execution_count": 5,
   "id": "69c2e8b9-35b6-4bd1-9168-fec4147f28f7",
   "metadata": {
    "tags": []
   },
   "outputs": [
    {
     "data": {
      "text/plain": [
       "22"
      ]
     },
     "execution_count": 5,
     "metadata": {},
     "output_type": "execute_result"
    }
   ],
   "source": [
    "len(\"ARNDBCEQZGHILKMFPSTWYV\")"
   ]
  },
  {
   "cell_type": "code",
   "execution_count": 6,
   "id": "4291e2bc-d0fa-4952-b321-6b5b40c45b4f",
   "metadata": {
    "tags": []
   },
   "outputs": [
    {
     "data": {
      "text/plain": [
       "20"
      ]
     },
     "execution_count": 6,
     "metadata": {},
     "output_type": "execute_result"
    }
   ],
   "source": [
    "len(\"arndceqghilkmfpstwyv\")"
   ]
  },
  {
   "cell_type": "code",
   "execution_count": null,
   "id": "2a3ee14d-39a9-4ba1-82ac-c706231bf557",
   "metadata": {},
   "outputs": [],
   "source": [
    "def validateDNA(seq):\n",
    "    set1 = set(seq.upper())\n",
    "    bases = set('ACGNT')\n",
    "    set1.union(set2)\n",
    "    return bases == set1.union(bases)"
   ]
  },
  {
   "cell_type": "code",
   "execution_count": null,
   "id": "de78fcb6-0777-4954-b683-e6d57503965d",
   "metadata": {},
   "outputs": [],
   "source": []
  },
  {
   "cell_type": "code",
   "execution_count": 19,
   "id": "0e6f75b9-1666-4afa-bfc2-27d31ff8ba34",
   "metadata": {},
   "outputs": [
    {
     "data": {
      "text/plain": [
       "'MNKMDLVADVAEKTDLSKAKATEVIDAVFA'"
      ]
     },
     "execution_count": 19,
     "metadata": {},
     "output_type": "execute_result"
    }
   ],
   "source": [
    "#creating the validation codes\n",
    "correct_aa = set(\"arndceqghilkmfpstwyv\")\n",
    "correct_aa\n",
    "aa = \"MNKMDLVADVAEKTDLSKAKATEVIDAVFA\"\n",
    "aa_sample = set(aa.lower())\n",
    "aa_sample\n",
    "aa_sample.union(correct_aa)\n",
    "aa"
   ]
  },
  {
   "cell_type": "code",
   "execution_count": 17,
   "id": "b03b7f63-995c-4f61-91a0-347e6526ad99",
   "metadata": {},
   "outputs": [
    {
     "name": "stdout",
     "output_type": "stream",
     "text": [
      "Invalid amino acid sequence\n"
     ]
    }
   ],
   "source": [
    "#incorporating the if function in the validation codes above \n",
    "if aa_sample.union(correct_aa) == correct_aa:\n",
    "    aa[0]\n",
    "    aa[-1]\n",
    "    aa[4]\n",
    "    print(\"%s,%s,%s\" % (aa[0],aa[-1],aa[4]))\n",
    "else:\n",
    "    print(\"Invalid amino acid sequence\")"
   ]
  },
  {
   "cell_type": "code",
   "execution_count": 20,
   "id": "236a26cd-5adf-46a6-a411-29e4d26acdd4",
   "metadata": {},
   "outputs": [
    {
     "data": {
      "text/plain": [
       "True"
      ]
     },
     "execution_count": 20,
     "metadata": {},
     "output_type": "execute_result"
    }
   ],
   "source": [
    "aa_sample.union(correct_aa) == correct_aa"
   ]
  },
  {
   "cell_type": "code",
   "execution_count": 31,
   "id": "11b20771-0d5c-4c7c-bbdb-5a04e383ecd7",
   "metadata": {},
   "outputs": [],
   "source": [
    "#defining the aa_pos function with a validation step involved in the function to check for a valid amino acid sequence\n",
    "def aa_pos(aa):\n",
    "    ''' Returns the first, last and fifth amino acid, respectively, in a valid amino acid sequence'''\n",
    "    correct_aa = set(\"arndceqghilkmfpstwyv\")\n",
    "    aa_sample = set(aa.lower())\n",
    "    aa_sample.union(correct_aa)\n",
    "    if aa_sample.union(correct_aa) == correct_aa:\n",
    "        aa[0]\n",
    "        aa[-1]\n",
    "        aa[4]\n",
    "        return(\"%s,%s,%s\" % (aa[0],aa[-1],aa[4]))\n",
    "    else:\n",
    "        print(\"Invalid amino acid sequence\")"
   ]
  },
  {
   "cell_type": "code",
   "execution_count": 40,
   "id": "a1d3db59-e7ea-4100-8523-ca90ded655b5",
   "metadata": {
    "tags": []
   },
   "outputs": [
    {
     "data": {
      "text/plain": [
       "'M,A,D'"
      ]
     },
     "execution_count": 40,
     "metadata": {},
     "output_type": "execute_result"
    }
   ],
   "source": [
    "#for testing the function\n",
    "aa_pos(\"MNKMDLVADVAEKTDLSKAKATEVIDAVFA\")"
   ]
  },
  {
   "cell_type": "markdown",
   "id": "b72548c7-7291-42c2-86bb-dc62685d122e",
   "metadata": {},
   "source": [
    "2. The above amino acid is a bacterial restriction enzyme that recognizes \"TCCGGA\". Find the first restriction site in the following sequence: AAAAATCCCGAGGCGGCTATATAGGGCTCCGGAGGCGTAATATAAAA"
   ]
  },
  {
   "cell_type": "code",
   "execution_count": 39,
   "id": "0b978cc3-159a-48ac-a080-f944acb9c271",
   "metadata": {},
   "outputs": [],
   "source": [
    "#function that returns the restriction site coordinates in a dna sequence\n",
    "def restriction_site(restrict_seq,seq):\n",
    "    '''Returns the first restriction site coordinates of a restriction enzyme in a dna sequence'''\n",
    "    return(seq.find(restrict_seq), seq.find(restrict_seq) + len(restrict_seq))\n",
    "    "
   ]
  },
  {
   "cell_type": "code",
   "execution_count": 37,
   "id": "00249acd-ccca-4140-9f1d-4bff7f4cc4b2",
   "metadata": {},
   "outputs": [
    {
     "data": {
      "text/plain": [
       "(27, 33)"
      ]
     },
     "execution_count": 37,
     "metadata": {},
     "output_type": "execute_result"
    }
   ],
   "source": [
    "#for testing the function\n",
    "restriction_site(\"TCCGGA\",\"AAAAATCCCGAGGCGGCTATATAGGGCTCCGGAGGCGTAATATAAAA\")"
   ]
  },
  {
   "cell_type": "markdown",
   "id": "cf84df4e-5455-48c9-a1cc-0492ff510c78",
   "metadata": {},
   "source": [
    " 3. Using strings, lists, tuples and dictionaries concepts, find the reverse complement of AAAAATCCCGAGGCGGCTATATAGGGCTCCGGAGGCGTAATATAAAA\n",
    "\n",
    "\n",
    "Algorithm:\n",
    "1. Store the DNA in a string\n",
    "    - Use it as a string\n",
    "    - Convert it to a list\n",
    "2. Reverse the dna string\n",
    "    - reverse method on lists\n",
    "    - Slice methods on lists\n",
    "    - use negative indexing (slicing) on a string or list\n",
    "3. Complement:\n",
    "    - For a string, we can use replace\n",
    "    - Use conditionals to replace an empty list\n",
    "    - use a DNA complement dictionary"
   ]
  },
  {
   "cell_type": "code",
   "execution_count": 10,
   "id": "580154b5-e6b6-4ab2-9ea1-f84578cda19a",
   "metadata": {},
   "outputs": [],
   "source": [
    "def complement_str(seq):\n",
    "    '''returns the complementary strand of a dna sequence'''\n",
    "    comp_seq = seq.replace(\"A\",\"t\").replace(\"T\",\"a\").replace(\"C\",\"g\").replace(\"G\",\"c\").upper()\n",
    "    return (comp_seq)"
   ]
  },
  {
   "cell_type": "code",
   "execution_count": 9,
   "id": "360c8b6e-7af9-44b6-ab5a-8b56ad1fa21a",
   "metadata": {},
   "outputs": [
    {
     "data": {
      "text/plain": [
       "'TTTTTAGGGCTCCGCCGATATATCCCGAGGCCTCCGCATTATATTTT'"
      ]
     },
     "execution_count": 9,
     "metadata": {},
     "output_type": "execute_result"
    }
   ],
   "source": [
    "complement_str(\"AAAAATCCCGAGGCGGCTATATAGGGCTCCGGAGGCGTAATATAAAA\")"
   ]
  },
  {
   "cell_type": "code",
   "execution_count": null,
   "id": "7a8d6c79-459a-41cb-917f-cf7ce6a02e1a",
   "metadata": {},
   "outputs": [],
   "source": [
    "def reverse_str(seq):\n",
    "    "
   ]
  },
  {
   "cell_type": "code",
   "execution_count": 2,
   "id": "6014cddb-5e6d-4462-b742-6f7bee2bd120",
   "metadata": {},
   "outputs": [
    {
     "data": {
      "text/plain": [
       "'TTTTATATTACGCCTCCGGAGCCCTATATAGCCGCCTCGGGATTTTT'"
      ]
     },
     "execution_count": 2,
     "metadata": {},
     "output_type": "execute_result"
    }
   ],
   "source": [
    "seq = \"AAAAATCCCGAGGCGGCTATATAGGGCTCCGGAGGCGTAATATAAAA\"\n",
    "comp_seq = seq.replace(\"A\",\"t\").replace(\"T\",\"a\").replace(\"C\",\"g\").replace(\"G\",\"c\")\n",
    "comp_seq\n",
    "reverse_seq = comp_seq[::-1].upper()\n",
    "reverse_seq"
   ]
  }
 ],
 "metadata": {
  "kernelspec": {
   "display_name": "Python 3 (ipykernel)",
   "language": "python",
   "name": "python3"
  },
  "language_info": {
   "codemirror_mode": {
    "name": "ipython",
    "version": 3
   },
   "file_extension": ".py",
   "mimetype": "text/x-python",
   "name": "python",
   "nbconvert_exporter": "python",
   "pygments_lexer": "ipython3",
   "version": "3.9.7"
  }
 },
 "nbformat": 4,
 "nbformat_minor": 5
}
