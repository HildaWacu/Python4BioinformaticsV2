{
 "cells": [
  {
   "cell_type": "code",
   "execution_count": 1,
   "id": "6e15384e-cef6-4719-965c-d8a2f1b3fd94",
   "metadata": {},
   "outputs": [
    {
     "data": {
      "text/plain": [
       "7"
      ]
     },
     "execution_count": 1,
     "metadata": {},
     "output_type": "execute_result"
    }
   ],
   "source": [
    "4+3"
   ]
  },
  {
   "cell_type": "markdown",
   "id": "46fc9395-a5e7-40a7-adf3-e11cb071b55c",
   "metadata": {
    "tags": []
   },
   "source": [
    "# 2. we can create a string in Python"
   ]
  },
  {
   "cell_type": "code",
   "execution_count": 2,
   "id": "67dfe62f-6a53-4848-b89f-807121cd1c21",
   "metadata": {},
   "outputs": [],
   "source": [
    "name = \"Hilda\""
   ]
  },
  {
   "cell_type": "code",
   "execution_count": 8,
   "id": "6f1f2770-96b8-4966-bada-54bb3b860f03",
   "metadata": {},
   "outputs": [
    {
     "name": "stdout",
     "output_type": "stream",
     "text": [
      "My name is Hilda\n"
     ]
    }
   ],
   "source": [
    "print (\"My name is \" + name)"
   ]
  },
  {
   "cell_type": "code",
   "execution_count": null,
   "id": "f470762b-6ae2-48ec-ae42-279cf53ec495",
   "metadata": {},
   "outputs": [],
   "source": []
  }
 ],
 "metadata": {
  "kernelspec": {
   "display_name": "Python 3 (ipykernel)",
   "language": "python",
   "name": "python3"
  },
  "language_info": {
   "codemirror_mode": {
    "name": "ipython",
    "version": 3
   },
   "file_extension": ".py",
   "mimetype": "text/x-python",
   "name": "python",
   "nbconvert_exporter": "python",
   "pygments_lexer": "ipython3",
   "version": "3.9.7"
  }
 },
 "nbformat": 4,
 "nbformat_minor": 5
}
