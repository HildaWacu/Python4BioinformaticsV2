{
 "cells": [
  {
   "cell_type": "markdown",
   "id": "fca022d6-1f63-4645-aece-97280d29ffd5",
   "metadata": {},
   "source": [
    "## Strings"
   ]
  },
  {
   "cell_type": "code",
   "execution_count": 1,
   "id": "b2867e38-cd7b-476e-95f9-c8213a80417a",
   "metadata": {},
   "outputs": [
    {
     "name": "stdout",
     "output_type": "stream",
     "text": [
      "s\n",
      "t\n",
      "r\n",
      "i\n",
      "n\n",
      "g\n"
     ]
    }
   ],
   "source": [
    "#1. Looping over strings. Rem, strings are inherently iterable. \n",
    "var_string = \"string\"\n",
    "for i in var_string:\n",
    "    print (i)"
   ]
  },
  {
   "cell_type": "code",
   "execution_count": 70,
   "id": "5d8509c0-8dd9-4b0f-892a-5f9b46e1b660",
   "metadata": {},
   "outputs": [
    {
     "name": "stdout",
     "output_type": "stream",
     "text": [
      "s\n",
      "t\n",
      "r\n",
      "i\n",
      "n\n",
      "g\n"
     ]
    }
   ],
   "source": [
    "#2. could also use the range and length len() of the string object\n",
    "var_string = 'string'\n",
    "for i in range(len(var_string)):\n",
    "    d = print(var_string[i])\n",
    "    d"
   ]
  },
  {
   "cell_type": "code",
   "execution_count": 72,
   "id": "522c23cd-7132-4aa8-84f7-483879943b07",
   "metadata": {},
   "outputs": [
    {
     "data": {
      "text/plain": [
       "6"
      ]
     },
     "execution_count": 72,
     "metadata": {},
     "output_type": "execute_result"
    }
   ],
   "source": [
    "##Dear self, this is very unnecessary. Why, you ask? Just use len()!!!\n",
    "len(var_string)\n",
    "#my own thought on how I can count the number of characters in a string. I appended 'no' to list y for each \n",
    "#...iteration over the string var_string, and counted the number of 'no's in the list\n",
    "var_string = 'string'\n",
    "y = []\n",
    "for i in range(len(var_string)):\n",
    "    y.append('no')\n",
    "y.count('no')\n",
    "\n"
   ]
  },
  {
   "cell_type": "code",
   "execution_count": 31,
   "id": "1a630e14-4599-4018-a7b7-4106cc9f0f93",
   "metadata": {},
   "outputs": [
    {
     "name": "stdout",
     "output_type": "stream",
     "text": [
      "0 s\n",
      "1 t\n",
      "2 r\n",
      "3 i\n",
      "4 n\n",
      "5 g\n",
      "s\n",
      "t\n",
      "r\n",
      "i\n",
      "n\n",
      "g\n"
     ]
    }
   ],
   "source": [
    "#3. using the enumerate method\n",
    "for i,j in enumerate (var_string):\n",
    "        print(i,j)\n",
    "        \n",
    "for i,j in enumerate (var_string):\n",
    "        print(j)\n"
   ]
  },
  {
   "cell_type": "code",
   "execution_count": 37,
   "id": "5d3d27a3-c7ce-4d70-89a4-6ccb2ce2d9db",
   "metadata": {
    "tags": []
   },
   "outputs": [
    {
     "name": "stdout",
     "output_type": "stream",
     "text": [
      "s\n",
      "t\n",
      "r\n",
      "i\n",
      "n\n",
      "g\n"
     ]
    }
   ],
   "source": [
    "#4. using the while loop\n",
    "i = 0\n",
    "while i < len(var_string):\n",
    "    print(var_string[i])\n",
    "    i +=1"
   ]
  },
  {
   "cell_type": "code",
   "execution_count": 74,
   "id": "e0f033ea-9e5b-46db-97fe-a3506cb4bbb0",
   "metadata": {},
   "outputs": [
    {
     "name": "stdout",
     "output_type": "stream",
     "text": [
      "s\n",
      "t\n",
      "skipped\n",
      "r\n",
      "i\n",
      "n\n",
      "g\n"
     ]
    }
   ],
   "source": [
    "#the continue function (not sure if it's called method)\n",
    "i = 0\n",
    "while i < len(var_string):\n",
    "    print(var_string[i])\n",
    "    i += 1\n",
    "    if i == 2:\n",
    "        print('skipped')\n",
    "        continue"
   ]
  },
  {
   "cell_type": "code",
   "execution_count": 75,
   "id": "f428c6f3-5db8-4cba-8b00-0f77bb7e2f6f",
   "metadata": {
    "tags": []
   },
   "outputs": [
    {
     "name": "stdout",
     "output_type": "stream",
     "text": [
      "4.0\n"
     ]
    }
   ],
   "source": [
    "#absolute values\n",
    "x = -4.0\n",
    "print(abs(x))\n"
   ]
  },
  {
   "cell_type": "code",
   "execution_count": 77,
   "id": "32089fe7-9a87-4173-9ece-9ca3e7104bb2",
   "metadata": {},
   "outputs": [
    {
     "name": "stdout",
     "output_type": "stream",
     "text": [
      "********************************************************************************\n",
      "                                                                                \n",
      "********************************************************************************\n"
     ]
    }
   ],
   "source": [
    "###REMEMBER THIS CONCEPT WHEN DOING MY PROJECT\n",
    "#THAT YOU CAN MULTIPLY A STRING CHARACTER TO REPEAT IT A CERTAIN NUMBER OF TIMES\n",
    "ast = '*'\n",
    "print(ast*80,' ' *80, ast*80, sep=\"\\n\")"
   ]
  },
  {
   "cell_type": "code",
   "execution_count": 18,
   "id": "a838e63e-c49f-4610-b1e3-e3dae952e3fa",
   "metadata": {},
   "outputs": [
    {
     "data": {
      "text/plain": [
       "'stri'"
      ]
     },
     "execution_count": 18,
     "metadata": {},
     "output_type": "execute_result"
    }
   ],
   "source": [
    "#using range splicing with strings\n",
    "var_string\n",
    "var_string[:4]"
   ]
  },
  {
   "cell_type": "code",
   "execution_count": 21,
   "id": "9f44733d-de64-4df8-9716-bcff2ead4971",
   "metadata": {},
   "outputs": [
    {
     "data": {
      "text/plain": [
       "'st'"
      ]
     },
     "execution_count": 21,
     "metadata": {},
     "output_type": "execute_result"
    }
   ],
   "source": [
    "z = var_string[0] + var_string[1]\n",
    "z"
   ]
  },
  {
   "cell_type": "code",
   "execution_count": 23,
   "id": "ec53acc2-8fa8-498e-a45c-b3c5000338c8",
   "metadata": {},
   "outputs": [
    {
     "data": {
      "text/plain": [
       "[[1, 2, 3], [4, 5, 6]]"
      ]
     },
     "execution_count": 23,
     "metadata": {},
     "output_type": "execute_result"
    }
   ],
   "source": [
    "#using range splicing with lists too\n",
    "var_list_of_lists = [[1,2,3],[4,5,6],[7,8,9]]\n",
    "var_list_of_lists[:2]"
   ]
  },
  {
   "cell_type": "code",
   "execution_count": 23,
   "id": "6c99c4bc-557e-4afb-b213-7903786123f5",
   "metadata": {},
   "outputs": [
    {
     "name": "stdout",
     "output_type": "stream",
     "text": [
      "Wakaka\n",
      "Wakaka\n",
      "Wakanda\n",
      "Wakanda\n"
     ]
    },
    {
     "data": {
      "text/plain": [
       "\u001b[1;31mSignature:\u001b[0m \u001b[0mstr\u001b[0m\u001b[1;33m.\u001b[0m\u001b[0mreplace\u001b[0m\u001b[1;33m(\u001b[0m\u001b[0mself\u001b[0m\u001b[1;33m,\u001b[0m \u001b[0mold\u001b[0m\u001b[1;33m,\u001b[0m \u001b[0mnew\u001b[0m\u001b[1;33m,\u001b[0m \u001b[0mcount\u001b[0m\u001b[1;33m=\u001b[0m\u001b[1;33m-\u001b[0m\u001b[1;36m1\u001b[0m\u001b[1;33m,\u001b[0m \u001b[1;33m/\u001b[0m\u001b[1;33m)\u001b[0m\u001b[1;33m\u001b[0m\u001b[1;33m\u001b[0m\u001b[0m\n",
       "\u001b[1;31mDocstring:\u001b[0m\n",
       "Return a copy with all occurrences of substring old replaced by new.\n",
       "\n",
       "  count\n",
       "    Maximum number of occurrences to replace.\n",
       "    -1 (the default value) means replace all occurrences.\n",
       "\n",
       "If the optional argument count is given, only the first count occurrences are\n",
       "replaced.\n",
       "\u001b[1;31mType:\u001b[0m      method_descriptor\n"
      ]
     },
     "metadata": {},
     "output_type": "display_data"
    }
   ],
   "source": [
    "#.replace in strings\n",
    "#check whether a string has digits only using .isdigit. returns a True of False\n",
    "b = 'Wandanda'\n",
    "print(b.replace('nda', 'ka'))\n",
    "print(b.replace(b[2:5], 'ka')) #trying the same out with splicing \n",
    "print(b.replace('nda', 'ka',1)) #to replace only the first occurence of the 'old' text, you use the optional argument .replace(old,new[,count])\n",
    "print(b.replace(b[2:5], 'ka',1))\n",
    "#b[2:5] = x\n",
    "?str.replace"
   ]
  },
  {
   "cell_type": "code",
   "execution_count": 9,
   "id": "934734a9-64ef-40a8-baea-c9147bb58958",
   "metadata": {},
   "outputs": [
    {
     "data": {
      "text/plain": [
       "4"
      ]
     },
     "execution_count": 9,
     "metadata": {},
     "output_type": "execute_result"
    }
   ],
   "source": [
    "str1 = 'Hey Cal, I got you a cookie'\n",
    "str2 = 'cook'\n",
    "str1.find('Cal')"
   ]
  },
  {
   "cell_type": "code",
   "execution_count": 1,
   "id": "b5a61b68-8514-402f-a12a-ff26f269c94b",
   "metadata": {},
   "outputs": [
    {
     "name": "stdout",
     "output_type": "stream",
     "text": [
      "Hello world!\n"
     ]
    }
   ],
   "source": [
    "import __hello__"
   ]
  },
  {
   "cell_type": "code",
   "execution_count": 5,
   "id": "17cb6e43-a793-4703-bfab-726c7402bc4a",
   "metadata": {},
   "outputs": [
    {
     "name": "stdout",
     "output_type": "stream",
     "text": [
      "hello:World!\n"
     ]
    }
   ],
   "source": [
    "print(\"hello\", \"World!\", sep=\":\")\n"
   ]
  },
  {
   "cell_type": "code",
   "execution_count": 10,
   "id": "9dfd9012-6fec-43ae-a346-bb8f05b8c569",
   "metadata": {},
   "outputs": [
    {
     "ename": "NameError",
     "evalue": "name 'attr' is not defined",
     "output_type": "error",
     "traceback": [
      "\u001b[1;31m---------------------------------------------------------------------------\u001b[0m",
      "\u001b[1;31mNameError\u001b[0m                                 Traceback (most recent call last)",
      "\u001b[1;32m~\\AppData\\Local\\Temp/ipykernel_8400/4039384991.py\u001b[0m in \u001b[0;36m<module>\u001b[1;34m\u001b[0m\n\u001b[1;32m----> 1\u001b[1;33m \u001b[1;32mif\u001b[0m \u001b[0mattr\u001b[0m\u001b[1;33m==\u001b[0m\u001b[1;33m-\u001b[0m\u001b[1;36m1\u001b[0m\u001b[1;33m:\u001b[0m\u001b[1;33m\u001b[0m\u001b[1;33m\u001b[0m\u001b[0m\n\u001b[0m\u001b[0;32m      2\u001b[0m     \u001b[1;32mwhile\u001b[0m \u001b[0mx\u001b[0m\u001b[1;33m<\u001b[0m\u001b[1;36m5\u001b[0m\u001b[1;33m:\u001b[0m\u001b[1;33m\u001b[0m\u001b[1;33m\u001b[0m\u001b[0m\n\u001b[0;32m      3\u001b[0m         \u001b[0mprint\u001b[0m\u001b[1;33m(\u001b[0m\u001b[1;34m\"Waiting...\"\u001b[0m\u001b[1;33m)\u001b[0m\u001b[1;33m\u001b[0m\u001b[1;33m\u001b[0m\u001b[0m\n\u001b[0;32m      4\u001b[0m         \u001b[0mwait\u001b[0m\u001b[1;33m(\u001b[0m\u001b[1;36m1\u001b[0m\u001b[1;33m)\u001b[0m\u001b[1;33m\u001b[0m\u001b[1;33m\u001b[0m\u001b[0m\n\u001b[0;32m      5\u001b[0m         \u001b[0mx\u001b[0m \u001b[1;33m=\u001b[0m \u001b[0mx\u001b[0m \u001b[1;33m+\u001b[0m \u001b[1;36m1\u001b[0m\u001b[1;33m\u001b[0m\u001b[1;33m\u001b[0m\u001b[0m\n",
      "\u001b[1;31mNameError\u001b[0m: name 'attr' is not defined"
     ]
    }
   ],
   "source": [
    "if attr==-1:\n",
    "    while x<5:\n",
    "        print(\"Waiting...\")\n",
    "        wait(1)\n",
    "        x = x + 1\n",
    "        print(\"Everything is OK\")\n",
    "else:\n",
    "    print(\"There is an error\")\n"
   ]
  },
  {
   "cell_type": "code",
   "execution_count": 24,
   "id": "2c51939e-9cf3-4451-b3ad-1db32f807e29",
   "metadata": {},
   "outputs": [
    {
     "data": {
      "text/plain": [
       "{',', 'a', 'b', 'c', 'x'}"
      ]
     },
     "execution_count": 24,
     "metadata": {},
     "output_type": "execute_result"
    }
   ],
   "source": [
    "a = set(\"aa,bb,ac,x\")\n",
    "a"
   ]
  },
  {
   "cell_type": "code",
   "execution_count": 79,
   "id": "09c113d9-29cf-4904-86de-2a92412dcab8",
   "metadata": {},
   "outputs": [
    {
     "data": {
      "text/plain": [
       "38"
      ]
     },
     "execution_count": 79,
     "metadata": {},
     "output_type": "execute_result"
    }
   ],
   "source": [
    "d = (\"Alex Doe, 5555-2333, nobody@example.com, Doe\")\n",
    "e = \"Alex Doe 5555-2333 nobody@example.com DoeDoe,...........Doe\"\n",
    "e.index(\"Doe\",6) #can be used to find the position of the next \"Doe\" in the string"
   ]
  },
  {
   "cell_type": "code",
   "execution_count": 3,
   "id": "10f9e1f9-3a6e-4d73-9341-87cc4df70129",
   "metadata": {},
   "outputs": [
    {
     "data": {
      "text/plain": [
       "56"
      ]
     },
     "execution_count": 3,
     "metadata": {},
     "output_type": "execute_result"
    }
   ],
   "source": [
    "#using rfind() or rindex() returns the highest index where the specified substring is found, i.e.bb\n",
    "e.rindex(\"Doe\")"
   ]
  },
  {
   "cell_type": "code",
   "execution_count": 80,
   "id": "dffd8ebf-6ec7-4722-8520-3f1782c4f079",
   "metadata": {},
   "outputs": [
    {
     "data": {
      "text/plain": [
       "['Alex Doe', ' 5555-2333, nobody@example.com, Doe']"
      ]
     },
     "execution_count": 80,
     "metadata": {},
     "output_type": "execute_result"
    }
   ],
   "source": [
    "d.split(sep=',',maxsplit=1) #splits only at the first occurence of the separator "
   ]
  },
  {
   "cell_type": "code",
   "execution_count": 82,
   "id": "ce66f04b-dcb1-467a-99ba-0174a1ab4cfb",
   "metadata": {},
   "outputs": [
    {
     "name": "stdout",
     "output_type": "stream",
     "text": [
      "The data type of e is <class 'tuple'>\n",
      "Alex Doe 5555-2333 nobody@example.com\n"
     ]
    },
    {
     "data": {
      "text/plain": [
       "str"
      ]
     },
     "execution_count": 82,
     "metadata": {},
     "output_type": "execute_result"
    }
   ],
   "source": [
    "#.join is used to join several strings together\n",
    "e = [\"Alex\", \"Doe\", \"5555-2333\", \"nobody@example.com\"] #this is a list of strings\n",
    "\n",
    "e = \"Alex\", \"Doe\", \"5555-2333\", \"nobody@example.com\" #this data type is a tuple\n",
    "print(\"The data type of e is \"+ str(type(e)))\n",
    "f = ' '.join(e)\n",
    "print(f)\n",
    "\n",
    "type(f)\n",
    "#if i > 0 in i\n",
    " #    print(i)\n",
    "     #try:\n",
    "      #  print(i)\n",
    "    #except:\n",
    "     #   print(\"Not present\")"
   ]
  },
  {
   "cell_type": "code",
   "execution_count": 85,
   "id": "31332933-99d2-495f-9426-a7c22f53a1ab",
   "metadata": {},
   "outputs": [
    {
     "data": {
      "text/plain": [
       "'agcctgcccgcca'"
      ]
     },
     "execution_count": 85,
     "metadata": {},
     "output_type": "execute_result"
    }
   ],
   "source": [
    "#my own thoughts on how to eliminate a space(or a delimiter for that matter) in a string; in this case, a space \n",
    "#it is first converted to a list, which is mutable, then modified, then changed back to a string, which is immutable\n",
    "test_seq = 'agcctgccc gcca'\n",
    "seq = test_seq.split() #this converts it into a list of 2 strings\n",
    "''.join(seq) #this joins the two strings in the list \n",
    "\n",
    "test_seq = 'agcctgccc,gcca'\n",
    "seq = test_seq.split(',')\n",
    "''.join(seq)\n"
   ]
  },
  {
   "cell_type": "code",
   "execution_count": 24,
   "id": "6a1020e2-584e-4efe-ab0f-d0662b85f308",
   "metadata": {},
   "outputs": [],
   "source": [
    "#help(str)"
   ]
  },
  {
   "cell_type": "code",
   "execution_count": 29,
   "id": "51b58c63-e334-4ea6-a9bf-bbb803438caa",
   "metadata": {},
   "outputs": [
    {
     "data": {
      "text/plain": [
       "\u001b[1;31mSignature:\u001b[0m \u001b[0mstr\u001b[0m\u001b[1;33m.\u001b[0m\u001b[0mexpandtabs\u001b[0m\u001b[1;33m(\u001b[0m\u001b[0mself\u001b[0m\u001b[1;33m,\u001b[0m \u001b[1;33m/\u001b[0m\u001b[1;33m,\u001b[0m \u001b[0mtabsize\u001b[0m\u001b[1;33m=\u001b[0m\u001b[1;36m8\u001b[0m\u001b[1;33m)\u001b[0m\u001b[1;33m\u001b[0m\u001b[1;33m\u001b[0m\u001b[0m\n",
       "\u001b[1;31mDocstring:\u001b[0m\n",
       "Return a copy where all tab characters are expanded using spaces.\n",
       "\n",
       "If tabsize is not given, a tab size of 8 characters is assumed.\n",
       "\u001b[1;31mType:\u001b[0m      method_descriptor\n"
      ]
     },
     "metadata": {},
     "output_type": "display_data"
    }
   ],
   "source": [
    "?str.expandtabs"
   ]
  },
  {
   "cell_type": "code",
   "execution_count": 45,
   "id": "d33af59a-a952-4085-b2f7-578745c57aa5",
   "metadata": {},
   "outputs": [
    {
     "data": {
      "text/plain": [
       "'yh'"
      ]
     },
     "execution_count": 45,
     "metadata": {},
     "output_type": "execute_result"
    }
   ],
   "source": [
    "my_sequence = \"Python\"\n",
    "my_sequence[1:5:2]"
   ]
  },
  {
   "cell_type": "markdown",
   "id": "ff9baf4b-dde7-477c-a729-f97d7a39fd34",
   "metadata": {},
   "source": [
    "## Dictionaries"
   ]
  },
  {
   "cell_type": "code",
   "execution_count": 111,
   "id": "b2536aae-175e-4bca-abfb-6728bef8129d",
   "metadata": {},
   "outputs": [
    {
     "name": "stdout",
     "output_type": "stream",
     "text": [
      "{'red': 'ff0000', 'green': '00ff00', 'blue': '0000ff'}\n",
      "{'red': 'ff0000', 'green': '00ff00', 'blue': '0000ff', 'yellow': 'idk'}\n"
     ]
    }
   ],
   "source": [
    "#you can create a dictionary from a list of tuples\n",
    "rgb = [('red','ff0000'), ('green','00ff00'), ('blue','0000ff')]\n",
    "rgb2 = [(\"red,ff0000\"), (\"green,0ff00\"), (\"blue,0000ff\")]\n",
    "colour_dict=dict(rgb)\n",
    "print(colour_2)\n",
    "print(colour_1)\n"
   ]
  },
  {
   "cell_type": "code",
   "execution_count": 112,
   "id": "fddba808-29a3-4038-9f83-e3a1cbafecf9",
   "metadata": {},
   "outputs": [],
   "source": [
    "colour_dict[\"red\"] #how to call a value using the key in a dictionary\n",
    "colour_dict['green']\n",
    "colour_keys = colour_dict.keys()\n",
    "colour_keys\n",
    "colours = ['red', 'blue', 'yellow']"
   ]
  },
  {
   "cell_type": "code",
   "execution_count": 113,
   "id": "89d3deff-8bf4-4941-a4e7-a15754d80b6f",
   "metadata": {},
   "outputs": [
    {
     "data": {
      "text/plain": [
       "{'red': 'ff0000', 'green': '00ff00', 'blue': '0000ff', 'yellow': 'idk'}"
      ]
     },
     "execution_count": 113,
     "metadata": {},
     "output_type": "execute_result"
    }
   ],
   "source": [
    "colour_dict[\"yellow\"] = \"idk\"\n",
    "colour_dict"
   ]
  },
  {
   "cell_type": "code",
   "execution_count": 114,
   "id": "0abd1137-6cc1-443b-9781-5ed5194fc6df",
   "metadata": {},
   "outputs": [
    {
     "data": {
      "text/plain": [
       "dict_keys(['red', 'green', 'blue', 'yellow'])"
      ]
     },
     "execution_count": 114,
     "metadata": {},
     "output_type": "execute_result"
    }
   ],
   "source": [
    "colour_dict.keys() #how to obtain just the keys from a dictionary"
   ]
  },
  {
   "cell_type": "code",
   "execution_count": 115,
   "id": "83cc5676-3ab9-487d-8732-5d20d56f22da",
   "metadata": {},
   "outputs": [
    {
     "data": {
      "text/plain": [
       "dict_values(['ff0000', '00ff00', '0000ff', 'idk'])"
      ]
     },
     "execution_count": 115,
     "metadata": {},
     "output_type": "execute_result"
    }
   ],
   "source": [
    "colour_dict.values()"
   ]
  },
  {
   "cell_type": "code",
   "execution_count": 116,
   "id": "23528783-75ae-4b01-a249-222f21571153",
   "metadata": {},
   "outputs": [
    {
     "name": "stdout",
     "output_type": "stream",
     "text": [
      "red ff0000\n",
      "blue 0000ff\n",
      "yellow idk\n"
     ]
    }
   ],
   "source": [
    "#used the concept of a list of strings to search the colour codes from the dictinary colour_dict\n",
    "#perhaps this concept can work in the translation of mrna using the aa dictionary\n",
    "for i in colours:\n",
    "    val = colour_dict[i]\n",
    "    print(i,val)"
   ]
  }
 ],
 "metadata": {
  "kernelspec": {
   "display_name": "Python 3 (ipykernel)",
   "language": "python",
   "name": "python3"
  },
  "language_info": {
   "codemirror_mode": {
    "name": "ipython",
    "version": 3
   },
   "file_extension": ".py",
   "mimetype": "text/x-python",
   "name": "python",
   "nbconvert_exporter": "python",
   "pygments_lexer": "ipython3",
   "version": "3.9.7"
  }
 },
 "nbformat": 4,
 "nbformat_minor": 5
}
