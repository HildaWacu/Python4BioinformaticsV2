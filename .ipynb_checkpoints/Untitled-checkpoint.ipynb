{
 "cells": [
  {
   "cell_type": "code",
   "execution_count": 2,
   "id": "7c37f584-7130-40ca-ac21-fa068c12427e",
   "metadata": {},
   "outputs": [],
   "source": [
    "name = 'Hilda'\n"
   ]
  },
  {
   "cell_type": "code",
   "execution_count": 147,
   "id": "4c16188e-c303-4d6d-9770-b6d2cf01d6bc",
   "metadata": {},
   "outputs": [],
   "source": [
    "message = 'My name is ' + name"
   ]
  },
  {
   "cell_type": "code",
   "execution_count": 148,
   "id": "239116a2-0c5b-40e4-8653-08f143bd79d4",
   "metadata": {},
   "outputs": [
    {
     "name": "stdout",
     "output_type": "stream",
     "text": [
      "My name is Hilda\n"
     ]
    }
   ],
   "source": [
    "print (message)"
   ]
  },
  {
   "cell_type": "code",
   "execution_count": 159,
   "id": "434acd5a-c3ff-4180-be77-f0c6233ee1b6",
   "metadata": {},
   "outputs": [
    {
     "ename": "TypeError",
     "evalue": "'str' object is not callable",
     "output_type": "error",
     "traceback": [
      "\u001b[0;31m---------------------------------------------------------------------------\u001b[0m",
      "\u001b[0;31mTypeError\u001b[0m                                 Traceback (most recent call last)",
      "\u001b[0;32m/tmp/ipykernel_187/1681703175.py\u001b[0m in \u001b[0;36m<module>\u001b[0;34m\u001b[0m\n\u001b[0;32m----> 1\u001b[0;31m \u001b[0mprint\u001b[0m\u001b[0;34m(\u001b[0m\u001b[0minput\u001b[0m\u001b[0;34m(\u001b[0m\u001b[0;34m\"What is your name?\"\u001b[0m\u001b[0;34m)\u001b[0m\u001b[0;34m)\u001b[0m\u001b[0;34m\u001b[0m\u001b[0;34m\u001b[0m\u001b[0m\n\u001b[0m",
      "\u001b[0;31mTypeError\u001b[0m: 'str' object is not callable"
     ]
    }
   ],
   "source": [
    "print(input(\"What is your name?\"))"
   ]
  },
  {
   "cell_type": "code",
   "execution_count": 157,
   "id": "c8f8f9ab-14a4-4438-a0b1-4f540533d2f4",
   "metadata": {},
   "outputs": [
    {
     "name": "stdout",
     "output_type": "stream",
     "text": [
      "What is your name?\n"
     ]
    },
    {
     "ename": "TypeError",
     "evalue": "'str' object is not callable",
     "output_type": "error",
     "traceback": [
      "\u001b[0;31m---------------------------------------------------------------------------\u001b[0m",
      "\u001b[0;31mTypeError\u001b[0m                                 Traceback (most recent call last)",
      "\u001b[0;32m/tmp/ipykernel_187/37072516.py\u001b[0m in \u001b[0;36m<module>\u001b[0;34m\u001b[0m\n\u001b[0;32m----> 1\u001b[0;31m \u001b[0minput\u001b[0m\u001b[0;34m(\u001b[0m\u001b[0mprint\u001b[0m\u001b[0;34m(\u001b[0m\u001b[0;34m'What is your name?'\u001b[0m\u001b[0;34m)\u001b[0m\u001b[0;34m)\u001b[0m\u001b[0;34m\u001b[0m\u001b[0;34m\u001b[0m\u001b[0m\n\u001b[0m",
      "\u001b[0;31mTypeError\u001b[0m: 'str' object is not callable"
     ]
    }
   ],
   "source": [
    "input(print('What is your name?'))"
   ]
  },
  {
   "cell_type": "raw",
   "id": "dade44d5-5579-4710-84b4-f2b68659f789",
   "metadata": {},
   "source": []
  },
  {
   "cell_type": "code",
   "execution_count": 152,
   "id": "70e38345-ca82-48df-896a-49f12d4946d7",
   "metadata": {},
   "outputs": [
    {
     "name": "stdout",
     "output_type": "stream",
     "text": [
      "My name is Hilda\n"
     ]
    },
    {
     "ename": "TypeError",
     "evalue": "'str' object is not callable",
     "output_type": "error",
     "traceback": [
      "\u001b[0;31m---------------------------------------------------------------------------\u001b[0m",
      "\u001b[0;31mTypeError\u001b[0m                                 Traceback (most recent call last)",
      "\u001b[0;32m/tmp/ipykernel_187/3582553611.py\u001b[0m in \u001b[0;36m<module>\u001b[0;34m\u001b[0m\n\u001b[0;32m----> 1\u001b[0;31m \u001b[0minput\u001b[0m\u001b[0;34m(\u001b[0m\u001b[0mprint\u001b[0m\u001b[0;34m(\u001b[0m\u001b[0mmessage\u001b[0m\u001b[0;34m)\u001b[0m\u001b[0;34m)\u001b[0m\u001b[0;34m\u001b[0m\u001b[0;34m\u001b[0m\u001b[0m\n\u001b[0m",
      "\u001b[0;31mTypeError\u001b[0m: 'str' object is not callable"
     ]
    }
   ],
   "source": [
    "input(print(message))"
   ]
  },
  {
   "cell_type": "code",
   "execution_count": 14,
   "id": "b09bcb5e-45fe-4912-a026-e336bd840b98",
   "metadata": {
    "tags": []
   },
   "outputs": [
    {
     "ename": "TypeError",
     "evalue": "'str' object is not callable",
     "output_type": "error",
     "traceback": [
      "\u001b[0;31m---------------------------------------------------------------------------\u001b[0m",
      "\u001b[0;31mTypeError\u001b[0m                                 Traceback (most recent call last)",
      "\u001b[0;32m/tmp/ipykernel_187/2755490971.py\u001b[0m in \u001b[0;36m<module>\u001b[0;34m\u001b[0m\n\u001b[0;32m----> 1\u001b[0;31m \u001b[0mprint\u001b[0m\u001b[0;34m(\u001b[0m\u001b[0minput\u001b[0m\u001b[0;34m(\u001b[0m\u001b[0mmessage\u001b[0m\u001b[0;34m)\u001b[0m\u001b[0;34m)\u001b[0m\u001b[0;34m\u001b[0m\u001b[0;34m\u001b[0m\u001b[0m\n\u001b[0m",
      "\u001b[0;31mTypeError\u001b[0m: 'str' object is not callable"
     ]
    }
   ],
   "source": [
    "print(input(message))"
   ]
  },
  {
   "cell_type": "code",
   "execution_count": 161,
   "id": "efa72bbe-d844-4d7b-8dbd-892a1f8dfb2c",
   "metadata": {},
   "outputs": [
    {
     "ename": "TypeError",
     "evalue": "'str' object is not callable",
     "output_type": "error",
     "traceback": [
      "\u001b[0;31m---------------------------------------------------------------------------\u001b[0m",
      "\u001b[0;31mTypeError\u001b[0m                                 Traceback (most recent call last)",
      "\u001b[0;32m/tmp/ipykernel_187/2983792056.py\u001b[0m in \u001b[0;36m<module>\u001b[0;34m\u001b[0m\n\u001b[0;32m----> 1\u001b[0;31m \u001b[0mprint\u001b[0m\u001b[0;34m(\u001b[0m\u001b[0minput\u001b[0m\u001b[0;34m(\u001b[0m\u001b[0;34m\"Please Enter a DNA sequence: \"\u001b[0m\u001b[0;34m)\u001b[0m\u001b[0;34m)\u001b[0m\u001b[0;34m\u001b[0m\u001b[0;34m\u001b[0m\u001b[0m\n\u001b[0m",
      "\u001b[0;31mTypeError\u001b[0m: 'str' object is not callable"
     ]
    }
   ],
   "source": [
    "print(input(\"Please Enter a DNA sequence: \"))"
   ]
  },
  {
   "cell_type": "code",
   "execution_count": 167,
   "id": "d8fd82a5-31ce-41cc-80ec-bff26ff59141",
   "metadata": {},
   "outputs": [
    {
     "ename": "TypeError",
     "evalue": "'str' object is not callable",
     "output_type": "error",
     "traceback": [
      "\u001b[0;31m---------------------------------------------------------------------------\u001b[0m",
      "\u001b[0;31mTypeError\u001b[0m                                 Traceback (most recent call last)",
      "\u001b[0;32m/tmp/ipykernel_187/3087521850.py\u001b[0m in \u001b[0;36m<module>\u001b[0;34m\u001b[0m\n\u001b[0;32m----> 1\u001b[0;31m \u001b[0mprint\u001b[0m\u001b[0;34m(\u001b[0m\u001b[0minput\u001b[0m\u001b[0;34m(\u001b[0m\u001b[0;34m'Please enter your name'\u001b[0m\u001b[0;34m)\u001b[0m\u001b[0;34m)\u001b[0m\u001b[0;34m\u001b[0m\u001b[0;34m\u001b[0m\u001b[0m\n\u001b[0m",
      "\u001b[0;31mTypeError\u001b[0m: 'str' object is not callable"
     ]
    }
   ],
   "source": [
    "print(input('Please enter your name'))"
   ]
  },
  {
   "cell_type": "raw",
   "id": "d90b0de4-08b7-46f9-87e0-8e0dbcf57606",
   "metadata": {
    "tags": []
   },
   "source": []
  },
  {
   "cell_type": "code",
   "execution_count": 15,
   "id": "69f629f3-1988-4aff-9dd1-6346cfae8d80",
   "metadata": {},
   "outputs": [
    {
     "name": "stdout",
     "output_type": "stream",
     "text": [
      "Help on built-in function print in module builtins:\n",
      "\n",
      "print(...)\n",
      "    print(value, ..., sep=' ', end='\\n', file=sys.stdout, flush=False)\n",
      "    \n",
      "    Prints the values to a stream, or to sys.stdout by default.\n",
      "    Optional keyword arguments:\n",
      "    file:  a file-like object (stream); defaults to the current sys.stdout.\n",
      "    sep:   string inserted between values, default a space.\n",
      "    end:   string appended after the last value, default a newline.\n",
      "    flush: whether to forcibly flush the stream.\n",
      "\n"
     ]
    }
   ],
   "source": [
    "help (print)"
   ]
  },
  {
   "cell_type": "code",
   "execution_count": 16,
   "id": "64e46cfb-7b87-401b-9f85-cdd370686411",
   "metadata": {},
   "outputs": [
    {
     "name": "stdout",
     "output_type": "stream",
     "text": [
      "HildaWacukaNjoroge\n"
     ]
    }
   ],
   "source": [
    "print ('Hilda' 'Wacuka' 'Njoroge')"
   ]
  },
  {
   "cell_type": "code",
   "execution_count": 17,
   "id": "e3a5d7d4-23d4-4026-b2e6-f06e7eb1e73e",
   "metadata": {},
   "outputs": [
    {
     "name": "stdout",
     "output_type": "stream",
     "text": [
      "Hilda Wacuka Njoroge\n"
     ]
    }
   ],
   "source": [
    "print ('Hilda', 'Wacuka', 'Njoroge')"
   ]
  },
  {
   "cell_type": "code",
   "execution_count": 18,
   "id": "28657f0a-5bd9-43f8-9777-48bfcb08316d",
   "metadata": {},
   "outputs": [
    {
     "name": "stdout",
     "output_type": "stream",
     "text": [
      "Hilda\tWacuka\tNjoroge\n"
     ]
    }
   ],
   "source": [
    "print ('Hilda', 'Wacuka', 'Njoroge', sep='\\t')"
   ]
  },
  {
   "cell_type": "code",
   "execution_count": 19,
   "id": "9757b37e-a203-46a6-b126-1991ec49979b",
   "metadata": {},
   "outputs": [
    {
     "name": "stdout",
     "output_type": "stream",
     "text": [
      "Hilda\n",
      "Wacuka\n",
      "Njoroge\n"
     ]
    }
   ],
   "source": [
    "print ('Hilda', 'Wacuka', 'Njoroge', sep='\\n')"
   ]
  },
  {
   "cell_type": "code",
   "execution_count": 30,
   "id": "2deebf90-f297-4fbc-a16f-a20c1abc4aef",
   "metadata": {},
   "outputs": [
    {
     "ename": "NameError",
     "evalue": "name 'test_2' is not defined",
     "output_type": "error",
     "traceback": [
      "\u001b[0;31m---------------------------------------------------------------------------\u001b[0m",
      "\u001b[0;31mNameError\u001b[0m                                 Traceback (most recent call last)",
      "\u001b[0;32m/tmp/ipykernel_187/1679575330.py\u001b[0m in \u001b[0;36m<module>\u001b[0;34m\u001b[0m\n\u001b[1;32m      1\u001b[0m \u001b[0;31m#with open ('test.txt', 'W')\u001b[0m\u001b[0;34m\u001b[0m\u001b[0;34m\u001b[0m\u001b[0m\n\u001b[1;32m      2\u001b[0m \u001b[0mtest\u001b[0m \u001b[0;34m=\u001b[0m \u001b[0mopen\u001b[0m \u001b[0;34m(\u001b[0m\u001b[0;34m'test_2.txt'\u001b[0m\u001b[0;34m,\u001b[0m \u001b[0;34m'w'\u001b[0m\u001b[0;34m)\u001b[0m\u001b[0;34m\u001b[0m\u001b[0;34m\u001b[0m\u001b[0m\n\u001b[0;32m----> 3\u001b[0;31m \u001b[0mprint\u001b[0m \u001b[0;34m(\u001b[0m\u001b[0mname\u001b[0m\u001b[0;34m,\u001b[0m \u001b[0mfile\u001b[0m\u001b[0;34m=\u001b[0m\u001b[0mtest_2\u001b[0m\u001b[0;34m.\u001b[0m\u001b[0mtxt\u001b[0m\u001b[0;34m)\u001b[0m\u001b[0;34m\u001b[0m\u001b[0;34m\u001b[0m\u001b[0m\n\u001b[0m",
      "\u001b[0;31mNameError\u001b[0m: name 'test_2' is not defined"
     ]
    }
   ],
   "source": [
    "#with open ('test.txt', 'W')\n",
    "test = open ('test_2.txt', 'w')\n",
    "print (name, file=test_2.txt)"
   ]
  },
  {
   "cell_type": "code",
   "execution_count": 31,
   "id": "9ae49ddf-cbc4-4821-9dc9-3280322d8304",
   "metadata": {},
   "outputs": [
    {
     "ename": "AttributeError",
     "evalue": "'_io.TextIOWrapper' object has no attribute 'txt'",
     "output_type": "error",
     "traceback": [
      "\u001b[0;31m---------------------------------------------------------------------------\u001b[0m",
      "\u001b[0;31mAttributeError\u001b[0m                            Traceback (most recent call last)",
      "\u001b[0;32m/tmp/ipykernel_187/3340590981.py\u001b[0m in \u001b[0;36m<module>\u001b[0;34m\u001b[0m\n\u001b[0;32m----> 1\u001b[0;31m \u001b[0mopen\u001b[0m \u001b[0;34m(\u001b[0m\u001b[0mtest\u001b[0m\u001b[0;34m.\u001b[0m\u001b[0mtxt\u001b[0m\u001b[0;34m,\u001b[0m \u001b[0;34m'a'\u001b[0m\u001b[0;34m)\u001b[0m\u001b[0;34m\u001b[0m\u001b[0;34m\u001b[0m\u001b[0m\n\u001b[0m\u001b[1;32m      2\u001b[0m \u001b[0mprint\u001b[0m \u001b[0;34m(\u001b[0m\u001b[0;34m'Hilda'\u001b[0m\u001b[0;34m,\u001b[0m \u001b[0;34m'Wacuka'\u001b[0m\u001b[0;34m,\u001b[0m \u001b[0;34m'Njoroge'\u001b[0m\u001b[0;34m,\u001b[0m \u001b[0msep\u001b[0m\u001b[0;34m=\u001b[0m\u001b[0;34m'\\n'\u001b[0m\u001b[0;34m,\u001b[0m \u001b[0mfile\u001b[0m\u001b[0;34m=\u001b[0m\u001b[0mtest\u001b[0m\u001b[0;34m.\u001b[0m\u001b[0mtxt\u001b[0m\u001b[0;34m)\u001b[0m\u001b[0;34m\u001b[0m\u001b[0;34m\u001b[0m\u001b[0m\n",
      "\u001b[0;31mAttributeError\u001b[0m: '_io.TextIOWrapper' object has no attribute 'txt'"
     ]
    }
   ],
   "source": [
    "open (test.txt)\n",
    "print ('Hilda', 'Wacuka', 'Njoroge', sep='\\n', file=test.txt)"
   ]
  },
  {
   "cell_type": "code",
   "execution_count": 32,
   "id": "c6488715-3792-4b91-a950-fc3037bfc0e3",
   "metadata": {},
   "outputs": [
    {
     "ename": "AttributeError",
     "evalue": "'_io.TextIOWrapper' object has no attribute 'txt'",
     "output_type": "error",
     "traceback": [
      "\u001b[0;31m---------------------------------------------------------------------------\u001b[0m",
      "\u001b[0;31mAttributeError\u001b[0m                            Traceback (most recent call last)",
      "\u001b[0;32m/tmp/ipykernel_187/2353078062.py\u001b[0m in \u001b[0;36m<module>\u001b[0;34m\u001b[0m\n\u001b[0;32m----> 1\u001b[0;31m \u001b[0mopen\u001b[0m \u001b[0;34m(\u001b[0m\u001b[0mtest\u001b[0m\u001b[0;34m.\u001b[0m\u001b[0mtxt\u001b[0m\u001b[0;34m)\u001b[0m\u001b[0;34m\u001b[0m\u001b[0;34m\u001b[0m\u001b[0m\n\u001b[0m",
      "\u001b[0;31mAttributeError\u001b[0m: '_io.TextIOWrapper' object has no attribute 'txt'"
     ]
    }
   ],
   "source": [
    "open (test.txt)"
   ]
  },
  {
   "cell_type": "code",
   "execution_count": 40,
   "id": "7bf5066b-0f9f-419b-8630-1d6a35c658ea",
   "metadata": {},
   "outputs": [],
   "source": [
    "dna = 'ACGTATA'"
   ]
  },
  {
   "cell_type": "code",
   "execution_count": 168,
   "id": "954b00c3-a40a-4f14-85f4-7849ab37a57b",
   "metadata": {},
   "outputs": [
    {
     "name": "stdout",
     "output_type": "stream",
     "text": [
      "ACGTATA\n"
     ]
    },
    {
     "data": {
      "text/plain": [
       "str"
      ]
     },
     "execution_count": 168,
     "metadata": {},
     "output_type": "execute_result"
    }
   ],
   "source": [
    "print (dna)\n",
    "type(dna)"
   ]
  },
  {
   "cell_type": "code",
   "execution_count": 42,
   "id": "9f3096f9-751c-44cc-8294-f91d0c927863",
   "metadata": {},
   "outputs": [
    {
     "data": {
      "text/plain": [
       "\u001b[0;31mType:\u001b[0m        str\n",
       "\u001b[0;31mString form:\u001b[0m ACGTATA\n",
       "\u001b[0;31mLength:\u001b[0m      7\n",
       "\u001b[0;31mDocstring:\u001b[0m  \n",
       "str(object='') -> str\n",
       "str(bytes_or_buffer[, encoding[, errors]]) -> str\n",
       "\n",
       "Create a new string object from the given object. If encoding or\n",
       "errors is specified, then the object must expose a data buffer\n",
       "that will be decoded using the given encoding and error handler.\n",
       "Otherwise, returns the result of object.__str__() (if defined)\n",
       "or repr(object).\n",
       "encoding defaults to sys.getdefaultencoding().\n",
       "errors defaults to 'strict'.\n"
      ]
     },
     "metadata": {},
     "output_type": "display_data"
    }
   ],
   "source": [
    "?dna"
   ]
  },
  {
   "cell_type": "code",
   "execution_count": 51,
   "id": "338429eb-4765-4df4-a623-dc85b79a5b79",
   "metadata": {},
   "outputs": [
    {
     "data": {
      "text/plain": [
       "3"
      ]
     },
     "execution_count": 51,
     "metadata": {},
     "output_type": "execute_result"
    }
   ],
   "source": [
    "dna.count ('A')"
   ]
  },
  {
   "cell_type": "code",
   "execution_count": 45,
   "id": "a00a5f17-ea02-4afa-ad0d-55cbe940ef29",
   "metadata": {},
   "outputs": [
    {
     "data": {
      "text/plain": [
       "'acgtata'"
      ]
     },
     "execution_count": 45,
     "metadata": {},
     "output_type": "execute_result"
    }
   ],
   "source": [
    "dna.lower()"
   ]
  },
  {
   "cell_type": "code",
   "execution_count": 53,
   "id": "6c3941d6-bbb7-4e79-aee6-e3d8afc4590e",
   "metadata": {},
   "outputs": [],
   "source": [
    "trna='AAGGGCTTAGCTTAATTAAAGTGGCTGATTTGCGTTCAGTTGATGCAGAGTGGGGTTTTGCAGTCCTTA'"
   ]
  },
  {
   "cell_type": "code",
   "execution_count": 123,
   "id": "5b20991f-24a2-42f5-9b86-801c6f1a9c50",
   "metadata": {},
   "outputs": [],
   "source": [
    "g = trna.count ('G')"
   ]
  },
  {
   "cell_type": "code",
   "execution_count": 64,
   "id": "82b48118-6273-444e-8813-674ddfcfd160",
   "metadata": {},
   "outputs": [],
   "source": [
    "c = trna.count ('C')"
   ]
  },
  {
   "cell_type": "code",
   "execution_count": 67,
   "id": "f8f24ac8-82aa-4c03-9910-ed5a00d263ec",
   "metadata": {},
   "outputs": [
    {
     "name": "stdout",
     "output_type": "stream",
     "text": [
      "30\n"
     ]
    }
   ],
   "source": [
    "print (g + c)"
   ]
  },
  {
   "cell_type": "code",
   "execution_count": 71,
   "id": "9f125f07-1e94-4b6d-88a3-f36edef3aa97",
   "metadata": {},
   "outputs": [
    {
     "data": {
      "text/plain": [
       "\u001b[0;31mType:\u001b[0m        str\n",
       "\u001b[0;31mString form:\u001b[0m AAGGGCTTAGCTTAATTAAAGTGGCTGATTTGCGTTCAGTTGATGCAGAGTGGGGTTTTGCAGTCCTTA\n",
       "\u001b[0;31mLength:\u001b[0m      69\n",
       "\u001b[0;31mDocstring:\u001b[0m  \n",
       "str(object='') -> str\n",
       "str(bytes_or_buffer[, encoding[, errors]]) -> str\n",
       "\n",
       "Create a new string object from the given object. If encoding or\n",
       "errors is specified, then the object must expose a data buffer\n",
       "that will be decoded using the given encoding and error handler.\n",
       "Otherwise, returns the result of object.__str__() (if defined)\n",
       "or repr(object).\n",
       "encoding defaults to sys.getdefaultencoding().\n",
       "errors defaults to 'strict'.\n"
      ]
     },
     "metadata": {},
     "output_type": "display_data"
    }
   ],
   "source": [
    "?trna"
   ]
  },
  {
   "cell_type": "raw",
   "id": "1ccc90dc-5dd0-4229-80dc-5a9aad36dd25",
   "metadata": {
    "tags": []
   },
   "source": []
  },
  {
   "cell_type": "code",
   "execution_count": 172,
   "id": "33212c2a-ce64-49e7-9055-373243939497",
   "metadata": {},
   "outputs": [
    {
     "data": {
      "text/plain": [
       "69"
      ]
     },
     "execution_count": 172,
     "metadata": {},
     "output_type": "execute_result"
    }
   ],
   "source": [
    "len(trna)"
   ]
  },
  {
   "cell_type": "code",
   "execution_count": 173,
   "id": "a2fdc7a8-f48f-4992-8202-fc060fe93187",
   "metadata": {},
   "outputs": [],
   "source": [
    "total = len(trna)"
   ]
  },
  {
   "cell_type": "code",
   "execution_count": 174,
   "id": "11f4ba29-a32c-4cda-b8ef-c59e9d3475a3",
   "metadata": {},
   "outputs": [],
   "source": [
    "GC = c + g"
   ]
  },
  {
   "cell_type": "code",
   "execution_count": 175,
   "id": "b4eadff8-e461-48c4-bf1d-f3a68838ce75",
   "metadata": {
    "tags": []
   },
   "outputs": [
    {
     "name": "stdout",
     "output_type": "stream",
     "text": [
      "43.47826086956522\n"
     ]
    }
   ],
   "source": [
    "print ((GC/total)*100)"
   ]
  },
  {
   "cell_type": "code",
   "execution_count": 125,
   "id": "d017322e-d285-49e1-8221-447596c5ed22",
   "metadata": {},
   "outputs": [
    {
     "name": "stdout",
     "output_type": "stream",
     "text": [
      "The AT content is 56.522\n"
     ]
    }
   ],
   "source": [
    "print (\"The AT content is %.3f\" % ((trna.count('A') + trna.count('T'))/len(trna)*100))"
   ]
  },
  {
   "cell_type": "code",
   "execution_count": 227,
   "id": "96e5c7bc-3403-4e2e-a5d4-3b59addccbff",
   "metadata": {},
   "outputs": [
    {
     "name": "stdout",
     "output_type": "stream",
     "text": [
      "AAGGGCTTAGCTTAATTAAAGTGGCTGATTTGCGTTCAGTTGATGCAGAGTGGGGTTTTGCAGTCCTTA\n",
      "The number of G nucelotides is 21\n",
      "The number of C nucelotides is 9\n",
      "G+C = 30\n",
      "The GC content is 43.478%.\n"
     ]
    }
   ],
   "source": [
    "#therefore, GC content can be calculated from trna through the following way\n",
    "print (trna)\n",
    "g = trna.count ('G')\n",
    "#print (\"The number of G molecules is \" + str(g)) #another way to \n",
    "print (\"The number of G nucelotides is %d\" % (g))\n",
    "c = trna.count ('C')\n",
    "print (\"The number of C nucelotides is %d\" % (c))\n",
    "GC = g + c\n",
    "print (\"G+C = %d\" % GC)\n",
    "total = len(trna)\n",
    "GC_content = (GC/total)*100\n",
    "print (\"The GC content is %.3f\" % (GC_content), \"%\",\".\", sep='')\n",
    "#print (\"The GC content is \" + str(GC_content), \"%\")"
   ]
  },
  {
   "cell_type": "code",
   "execution_count": 229,
   "id": "270c6f28-da3f-41d4-92c4-050931d3d1a9",
   "metadata": {},
   "outputs": [
    {
     "name": "stdout",
     "output_type": "stream",
     "text": [
      "AAGGGCTTAGCTTAATTAAAGTGGCTGATTTGCGTTCAGTTGATGCAGAGTGGGGTTTTGCAGTCCTTA\n",
      "The number of A nucelotides is 15\n",
      "The number of T nucelotides is 24\n",
      "A+T = 39\n",
      "AT content is 56.522%\n"
     ]
    }
   ],
   "source": [
    "#How to calcualte the AT content in %\n",
    "print (trna)\n",
    "a = trna.count ('A')\n",
    "print (\"The number of A nucelotides is %d\" % (a))\n",
    "t = trna.count ('T')\n",
    "print (\"The number of T nucelotides is %d\" % (t))\n",
    "AT = a + t\n",
    "print (\"A+T = %d\" % AT)\n",
    "AT_content = (AT/total)*100\n",
    "print (\"AT content is %.3f\" % (AT_content), \"%\", sep='')\n",
    "#print (f\"AT content is {AT_content}\")\n",
    "#print (\"AT content is {} {} {}\".format(AT_content,AT,a))"
   ]
  },
  {
   "cell_type": "code",
   "execution_count": 233,
   "id": "503f4fae-1ac9-4410-83b9-69ef9bb09fb6",
   "metadata": {},
   "outputs": [
    {
     "name": "stdout",
     "output_type": "stream",
     "text": [
      "The GC content is 43.478%\n",
      "The AT content is 56.522%\n"
     ]
    }
   ],
   "source": [
    "#in summary\n",
    "print (\"The GC content is %.3f\" % (((trna.count('G') + trna.count('C'))/len(trna)*100)), \"%\", sep='')\n",
    "print (\"The AT content is %.3f\" % (((trna.count('A') + trna.count('T'))/len(trna)*100)),'%',sep='')"
   ]
  },
  {
   "cell_type": "code",
   "execution_count": null,
   "id": "1fbfc395-3cdf-4e6b-b05e-a17ec491107a",
   "metadata": {},
   "outputs": [],
   "source": []
  }
 ],
 "metadata": {
  "kernelspec": {
   "display_name": "Python 3 (ipykernel)",
   "language": "python",
   "name": "python3"
  },
  "language_info": {
   "codemirror_mode": {
    "name": "ipython",
    "version": 3
   },
   "file_extension": ".py",
   "mimetype": "text/x-python",
   "name": "python",
   "nbconvert_exporter": "python",
   "pygments_lexer": "ipython3",
   "version": "3.9.7"
  }
 },
 "nbformat": 4,
 "nbformat_minor": 5
}
